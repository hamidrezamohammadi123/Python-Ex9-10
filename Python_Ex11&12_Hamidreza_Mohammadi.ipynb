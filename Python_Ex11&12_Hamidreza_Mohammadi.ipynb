{
 "cells": [
  {
   "cell_type": "markdown",
   "id": "ead54e1a",
   "metadata": {},
   "source": [
    "<div style=\"color: white;padding-top:18px;text-align:center;background-color:#610C9F;border-radius:15px;border: 1px solid white;\"> \n",
    "    <h3>Exercise 11 (score:350\n",
    "    )</h3>\n",
    "</div>"
   ]
  },
  {
   "cell_type": "markdown",
   "id": "9986a78d",
   "metadata": {},
   "source": [
    "<div style=\"color: white;padding-top:18px;text-align:left;background-color:#940B92;border-radius:15px;border: 1px solid white;\"> \n",
    "    <h4>Question 01 (Tuple):</h4>\n",
    "    <p> Create a Python program with below details:\n",
    "Input a count of students. \n",
    "Collect each student's unique ID, name, and score into tuples. \n",
    "Store these tuples in a list. \n",
    "Input a name to search the list. \n",
    "Display the matching student's details, if found..\n",
    "\n",
    "</p>\n",
    "</div>"
   ]
  },
  {
   "cell_type": "code",
   "execution_count": 4,
   "id": "7710ae23",
   "metadata": {},
   "outputs": [
    {
     "name": "stdout",
     "output_type": "stream",
     "text": [
      "total profile students :[(1, 'hamid', 16.0), (2, 'reza', 19.0)]\n",
      "found it , ID:2  ,Name:reza    ,Score:19.0\n"
     ]
    }
   ],
   "source": [
    "# write code here:\n",
    "def read_s():\n",
    "    ID=int(input(\"Please enter ID of student:\"))\n",
    "    name=input(\"Please enter Name of student:\")\n",
    "    score=float(input(\"Please enter Score of student:\"))   \n",
    "    return ID,name,score\n",
    "\n",
    "# --------   main body -------------\n",
    "students=list()\n",
    "cnt=int(input(\"please enter number of students:\"))\n",
    "\n",
    "for i in range(cnt):\n",
    "    student=read_s()           # Read a student profile\n",
    "    students.append(student)   # Add student to list\n",
    "print(f\"total profile students :{students}\")\n",
    "flag=False\n",
    "name_s=input(\"please enter name for search:\")\n",
    "for id,name,score in students:\n",
    "    if name_s==name :\n",
    "        print(f\"found it , ID:{id}  ,Name:{name}    ,Score:{score}\")\n",
    "        flag=True\n",
    "\n",
    "if not flag  :\n",
    "    print(f\"{name}  is not found \")\n",
    "            \n",
    "           \n",
    "\n"
   ]
  },
  {
   "cell_type": "markdown",
   "id": "488e01d2",
   "metadata": {},
   "source": [
    "<div style=\"color: white;padding-top:18px;text-align:left;background-color:#940B92;border-radius:15px;border: 1px solid white;\"> \n",
    "    <h4>Question 02 (Set)</h4>\n",
    "<p>\n",
    "Given two lists: list1 = [1, 2, 3, 4, 5, 6, 6, 7] and list2 = [5, 6, 7, 8, 9], write a \n",
    "program to create a list that contains only the unique elements from \n",
    "both list1 and list2. (using set)\n",
    "</p>\n"
   ]
  },
  {
   "cell_type": "code",
   "execution_count": 11,
   "id": "0d6db2ad",
   "metadata": {},
   "outputs": [
    {
     "name": "stdout",
     "output_type": "stream",
     "text": [
      "final list:[1, 2, 3, 4, 5, 6, 7, 8, 9]\n"
     ]
    }
   ],
   "source": [
    "# write code here:\n",
    "list1 = [1, 2, 3, 4, 5, 6, 6, 7] \n",
    "list2 = [5, 6, 7, 8, 9]\n",
    "list3=list1+list2\n",
    "list3=set(list3)\n",
    "list3=list(list3)\n",
    "print(f\"final list:{list3}\")"
   ]
  },
  {
   "cell_type": "markdown",
   "id": "021be85c",
   "metadata": {},
   "source": [
    "<div style=\"color: white;padding-top:18px;text-align:left;background-color:#940B92;border-radius:15px;border: 1px solid white;\"> \n",
    "    <h4>Question 03 (Set)</h4>\n",
    "<p>\n",
    "Given a list items containing strings (filenames with extensions) and \n",
    "integers, write a Python program to extract and display the unique file \n",
    "extensions from the filenames in the list. Non-string items should be \n",
    "ignored.\n",
    "</p>\n",
    "\n",
    "</div>"
   ]
  },
  {
   "cell_type": "code",
   "execution_count": 14,
   "id": "32b3c29d",
   "metadata": {},
   "outputs": [
    {
     "name": "stdout",
     "output_type": "stream",
     "text": [
      "{'py', 'txt'}\n"
     ]
    }
   ],
   "source": [
    "# write code here:\n",
    "list1=[1,14,\"t12.py\",15,\"r24.txt\",18,\"c45.py\",868,\"d55.txt\",199]\n",
    "list2=[]\n",
    "for i in list1 :\n",
    "    if type(i)==str :\n",
    "        ext=i.split(\".\")[-1]\n",
    "        list2.append(ext)\n",
    "list2=set(list2)\n",
    "print(list2)"
   ]
  },
  {
   "cell_type": "markdown",
   "id": "b6999fc2",
   "metadata": {},
   "source": [
    "<div style=\"color: white;padding-top:18px;text-align:left;background-color:#940B92;border-radius:15px;border: 1px solid white;\"> \n",
    "    <h4>Question 04 (Tuple)</h4>\n",
    "<p>\n",
    " Given dictionary books with book titles and their authors, perform the \n",
    "following:\n",
    "</p>\n",
    "\n",
    "<ul>\n",
    "1.Shallow Copy Experiment:\n",
    "<ul>•Make a shallow copy of books.</ul>\n",
    "<ul>•Add \"Author D\" to \"Book1\" in this copy..</ul>\n",
    "<ul>•Add \"Author D\" to \"Book1\" in this copy.</ul>\n",
    "</ul>\n",
    "<ul>\n",
    "2.Deep Copy Experiment:\n",
    "<ul>•Create a deep copy of books.</ul>\n",
    "<ul>•Add \"Author E\" to \"Book1\" in the deep copy</ul>\n",
    "<ul>•Discuss differences observed between the shallow and deep copy results.</ul>\n",
    "</ul>\n",
    "</div>"
   ]
  },
  {
   "cell_type": "code",
   "execution_count": 29,
   "id": "0bf5d625",
   "metadata": {},
   "outputs": [
    {
     "name": "stdout",
     "output_type": "stream",
     "text": [
      "-------  shallow copy   ----------\n",
      "books  :{'Book1': {'title': 'Learn Python', 'authors': ['Author A', 'Author B']}, 'Book2': {'title': 'AI Basics', 'authors': ['Author C']}}\n",
      "became :{'Book1': {'title': 'Learn Python', 'authors': ['Author A', 'Author B', 'Author D']}, 'Book2': {'title': 'AI Basics', 'authors': ['Author C']}}\n",
      "shallow:{'Book1': {'title': 'Learn Python', 'authors': ['Author A', 'Author B', 'Author D']}, 'Book2': {'title': 'AI Basics', 'authors': ['Author C']}}\n",
      "\n",
      "-------  deep copy   ----------\n",
      "became :{'Book1': {'title': 'Learn Python', 'authors': ['Author A', 'Author B']}, 'Book2': {'title': 'AI Basics', 'authors': ['Author C']}}\n",
      "deep   :{'Book1': {'title': 'Learn Python', 'authors': ['Author A', 'Author B', 'Author E']}, 'Book2': {'title': 'AI Basics', 'authors': ['Author C']}}\n"
     ]
    }
   ],
   "source": [
    "# write code here:\n",
    "import copy\n",
    "print(\"-------  shallow copy   ----------\")\n",
    "books = {\"Book1\": {\"title\": \"Learn Python\", \"authors\": [\"Author A\", \"Author B\"]},\"Book2\": {\"title\": \"AI Basics\", \"authors\": [\"Author C\"]}}\n",
    "print(f\"books  :{books}\")\n",
    "shallow_books = copy.copy(books)\n",
    "shallow_books[\"Book1\"][\"authors\"].append(\"Author D\")\n",
    "print(f\"became :{books}\")\n",
    "print(f\"shallow:{shallow_books}\")    # are equal\n",
    "\n",
    "print(\"\")\n",
    "print(\"-------  deep copy   ----------\")\n",
    "books = {\"Book1\": {\"title\": \"Learn Python\", \"authors\": [\"Author A\", \"Author B\"]},\"Book2\": {\"title\": \"AI Basics\", \"authors\": [\"Author C\"]}}\n",
    "deep_books = copy.deepcopy(books)\n",
    "deep_books[\"Book1\"][\"authors\"].append(\"Author E\")\n",
    "\n",
    "print(f\"became :{books}\")\n",
    "print(f\"deep   :{deep_books}\")     #are different\n"
   ]
  },
  {
   "cell_type": "markdown",
   "id": "0e2c870c",
   "metadata": {},
   "source": [
    "<div style=\"color: white;padding-top:18px;text-align:center;background-color:#610C9F;border-radius:15px;border: 1px solid white;\"> \n",
    "    <h3>Exercise 12 (score:300)</h3>\n",
    "</div>"
   ]
  },
  {
   "cell_type": "markdown",
   "id": "98cda4ff",
   "metadata": {},
   "source": [
    "<div style=\"color: white;padding-top:18px;text-align:left;background-color:#940B92;border-radius:15px;border: 1px solid white;\"> \n",
    "    <h4>Question 01 (File Handling)</h4>\n",
    "<p>\n",
    "Write a Python program to analyze text files in a directory structure. You \n",
    "are given a directory named root_folder containing various files (.txt, .py, \n",
    ".pdf, .ipynb) and subfolders. Your program should:\n",
    "</p>\n",
    "<ul>Traverse root_folder to find all .txt files.</ul>\n",
    "<ul>For each .txt file, calculate:</ul>\n",
    "<ul>The number of lines.</ul>\n",
    "<ul>The number of unique words.</ul>\n",
    "<ul>Create and write these details into a new file named text_file_analysis.txt.</ul>\n",
    "</div>"
   ]
  },
  {
   "cell_type": "code",
   "execution_count": 22,
   "metadata": {},
   "outputs": [
    {
     "name": "stdout",
     "output_type": "stream",
     "text": [
      "\n",
      " calculate all files and report this files\n",
      " F:\\python filoger\\Test\\t1.txt  lines: 3  unique words:  {'c++', \"['java\", \"'python\", 'python', \"\\\\n',\", \"'c++\", \"\\\\n']\"}\n",
      " F:\\python filoger\\Test\\text_file_analysis.txt  lines: 0  unique words:  {'[]'}\n",
      " F:\\python filoger\\Test\\e01-e2\\iran.txt  lines: 3  unique words:  {'is', 'area', 'to', \"'\", 'bordered', '1.64', 'kilometers', 'by', \"\\\\n',\", 'It', 'Persia', 'west', 'Iraq', 'million', 'the', 'as', 'square', 'Turkey', \"northwest\\\\n',\", 'an', 'known', 'of', \"['Iran\", 'and', \"']\", 'also', 'covers'}\n",
      " F:\\python filoger\\Test\\e03-e4\\tehran.txt  lines: 1  unique words:  {'is', 'with', 'Tehran', 'people', 'largest', 'around', 'million', 'its', 'metropolitan', 'city', 'and', 'capital', \"['Its\", 'in', '16', \"area.']\"}\n"
     ]
    }
   ],
   "source": [
    "# Import the required modules\n",
    "import os\n",
    "\n",
    "# Define a function to calculate  each file and write them to a new file\n",
    "def calculate_file(file_report, files):\n",
    "    for f in files:\n",
    "       \n",
    "        with open(f, \"r\") as f_read:\n",
    "            lines = f_read.readlines()\n",
    "            lens=len(lines)\n",
    "            words=set(str(lines).split())\n",
    "            f_w.write(f\"\\n {f}  lines: {lens}  unique words:  {words}\")\n",
    "    return\n",
    "\n",
    "# Define a function to find all the files with txt extension in a given path\n",
    "def find_files(path):\n",
    "    files_with_path = []\n",
    "    for p, dirs, files in os.walk(path):\n",
    "        for f in files:\n",
    "            ext = os.path.splitext(f)[-1]\n",
    "            if ext == \".txt\":\n",
    "                f_path = os.path.join(p, f)\n",
    "                files_with_path.append(f_path)\n",
    "    return files_with_path\n",
    "\n",
    "# -------------   Main body   ------------------------\n",
    "path = \"F:\\python filoger\\Test\"\n",
    "file_report = os.path.join(path, \"text_file_analysis.txt\")\n",
    "f_w = open(file_report, \"w\")\n",
    "f_w.write(\"\\n calculate all files and report this files\")\n",
    "\n",
    "files = find_files(path)\n",
    "calculate_file(file_report, files)\n",
    "f_w.close()\n",
    "f_w = open(file_report, \"r\")\n",
    "data = f_w.read()\n",
    "print(data)\n",
    "f_w.close()\n"
   ]
  },
  {
   "cell_type": "markdown",
   "id": "e53e31ab",
   "metadata": {},
   "source": [
    "<div style=\"color: white;padding-top:18px;text-align:left;background-color:#940B92;border-radius:15px;border: 1px solid white;\"> \n",
    "    <h4>Question 02 (File Handling)</h4>\n",
    "<p>\n",
    "Write a program that prompts the user to input a file extension (like \n",
    "\"py\"), then searches the user's Desktop and its subdirectories for all \n",
    "files with that extension. The program should count and display the \n",
    "total number of matching files found.\n",
    "</p>\n",
    "</div>"
   ]
  },
  {
   "cell_type": "code",
   "execution_count": 54,
   "id": "3898639a",
   "metadata": {},
   "outputs": [
    {
     "name": "stdout",
     "output_type": "stream",
     "text": [
      "C:\\Users\\welcome/Desktop\\11\\# Ex_912_hamidreza_mohammadi.py\n",
      "C:\\Users\\welcome/Desktop\\11\\# Ex_93_hamidreza_mohammadi .py\n",
      "There are 2 files with the extension py on your Desktop.\n"
     ]
    }
   ],
   "source": [
    "# Import the required modules\n",
    "import os\n",
    "ext = input(\"Enter a file extension: \")\n",
    "count = 0\n",
    "path_desktop=\"~/Desktop\"\n",
    "#path_desktop = \"F:\\python filoger\\Test\"\n",
    "for path, dirs, files in os.walk(os.path.expanduser(path_desktop)):\n",
    "    # Loop through the files in each directory\n",
    "    for name in files:\n",
    "        # Check if the file name ends with the given extension\n",
    "        ext1 =  os.path.splitext(name)[-1]\n",
    "        if ext1 == \".\"+ext:\n",
    "            count += 1\n",
    "            print(os.path.join(path, name))\n",
    "\n",
    "print(f\" {count} files with the extension {ext} on your Desktop.\")\n"
   ]
  }
 ],
 "metadata": {
  "kernelspec": {
   "display_name": "Python 3 (ipykernel)",
   "language": "python",
   "name": "python3"
  },
  "language_info": {
   "codemirror_mode": {
    "name": "ipython",
    "version": 3
   },
   "file_extension": ".py",
   "mimetype": "text/x-python",
   "name": "python",
   "nbconvert_exporter": "python",
   "pygments_lexer": "ipython3",
   "version": "3.9.7"
  }
 },
 "nbformat": 4,
 "nbformat_minor": 5
}
