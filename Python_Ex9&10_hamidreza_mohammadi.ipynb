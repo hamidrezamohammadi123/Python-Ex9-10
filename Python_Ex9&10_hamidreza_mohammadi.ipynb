{
 "cells": [
  {
   "cell_type": "markdown",
   "id": "ead54e1a",
   "metadata": {},
   "source": [
    "<div style=\"color: white;padding-top:18px;text-align:center;background-color:#610C9F;border-radius:15px;border: 1px solid white;\"> \n",
    "    <h3>Exercise 9 (score:300 + 200\n",
    "    )</h3>\n",
    "</div>"
   ]
  },
  {
   "cell_type": "markdown",
   "id": "9986a78d",
   "metadata": {},
   "source": [
    "<div style=\"color: white;padding-top:18px;text-align:left;background-color:#940B92;border-radius:15px;border: 1px solid white;\"> \n",
    "    <h4>Question 01 (Project):</h4>\n",
    "    <p>Explain the project code completely function by function.\n",
    "</p>\n",
    "</div>"
   ]
  },
  {
   "cell_type": "code",
   "execution_count": 2,
   "id": "7710ae23",
   "metadata": {},
   "outputs": [],
   "source": [
    "# write code here:\n",
    "#The description of each function is included in the attached file  # Ex_912 _hamidreza_mohammadi.py\n",
    "\n"
   ]
  },
  {
   "cell_type": "markdown",
   "id": "488e01d2",
   "metadata": {},
   "source": [
    "<div style=\"color: white;padding-top:18px;text-align:left;background-color:#940B92;border-radius:15px;border: 1px solid white;\"> \n",
    "    <h4>Question 02 (project)</h4>\n",
    "<p>\n",
    "  This block of the code is repeated several times, fix the issue by \n",
    "function.\n",
    "</p>\n",
    "<div style='margin-left: 20px'>\n",
    "<p>\n",
    "print(5*\"*\" + str(code) + \"+\")</p>\n",
    "<p>\n",
    "print(f\"name : {booking['name]}\")\n",
    "</p>\n",
    "<p>\n",
    "print(f\"start data : {booking['start_date]\"})\n",
    "</p>\n",
    "<p>\n",
    "print(f\"end data : {booking['end_date]\"})\n",
    "</p>\n",
    "</div>\n",
    "</div>"
   ]
  },
  {
   "cell_type": "code",
   "execution_count": null,
   "metadata": {},
   "outputs": [],
   "source": [
    "# write code here:\n",
    "#There were errors in the text of the program for printing, which were fixed\n",
    "#The description of each function is included in the attached file  # Ex_912 _hamidreza_mohammadi.py"
   ]
  },
  {
   "cell_type": "markdown",
   "id": "021be85c",
   "metadata": {},
   "source": [
    "<div style=\"color: white;padding-top:18px;text-align:left;background-color:#940B92;border-radius:15px;border: 1px solid white;\"> \n",
    "    <h4>Question 03 (Project)</h4>\n",
    "<p>\n",
    "Create an update_booking function, allowing changes to the 'name', \n",
    "'start date', and 'end date' of bookings. Users should be able to select a \n",
    "booking by its unique code and enter new details.\n",
    "</p>\n",
    "\n",
    "</div>"
   ]
  },
  {
   "cell_type": "code",
   "execution_count": null,
   "id": "32b3c29d",
   "metadata": {},
   "outputs": [],
   "source": [
    "# write code here:\n",
    "#The description of each function is included in the attached file  # Ex_93 _hamidreza_mohammadi.py"
   ]
  },
  {
   "cell_type": "markdown",
   "id": "b6999fc2",
   "metadata": {},
   "source": [
    "<div style=\"color: white;padding-top:18px;text-align:left;background-color:#940B92;border-radius:15px;border: 1px solid white;\"> \n",
    "    <h4>Question 04 (Project)</h4>\n",
    "<p>\n",
    " Develop a sort_bookings function that organizes bookings based on their 'start \n",
    "date'. The function should offer options for both ascending and descending \n",
    "order sorting.\n",
    "</p>\n",
    "\n",
    "</div>"
   ]
  },
  {
   "cell_type": "code",
   "execution_count": null,
   "id": "0bf5d625",
   "metadata": {},
   "outputs": [],
   "source": [
    "# write code here:"
   ]
  },
  {
   "cell_type": "markdown",
   "id": "3c45ce64",
   "metadata": {},
   "source": [
    "<div style=\"color: white;padding-top:18px;text-align:left;background-color:#940B92;border-radius:15px;border: 1px solid white;\"> \n",
    "    <h4>Question 05 (Project)</h4>\n",
    "<p>\n",
    "  Fix issues 1-4. (github)\n",
    "</p>\n",
    "\n",
    "</div>"
   ]
  },
  {
   "cell_type": "code",
   "execution_count": null,
   "id": "c75ee3de",
   "metadata": {},
   "outputs": [],
   "source": [
    "# write code here:"
   ]
  },
  {
   "cell_type": "markdown",
   "id": "0e2c870c",
   "metadata": {},
   "source": [
    "<div style=\"color: white;padding-top:18px;text-align:center;background-color:#610C9F;border-radius:15px;border: 1px solid white;\"> \n",
    "    <h3>Exercise 10 (score:200)</h3>\n",
    "</div>"
   ]
  },
  {
   "cell_type": "markdown",
   "id": "98cda4ff",
   "metadata": {},
   "source": [
    "<div style=\"color: white;padding-top:18px;text-align:left;background-color:#940B92;border-radius:15px;border: 1px solid white;\"> \n",
    "    <h4>Question 01 (recursive function)</h4>\n",
    "<p>\n",
    " Implement a recursive Python function that asks for a student's score \n",
    "until it receives a value between 0 and 20, then returns that valid score.\n",
    "</p>\n",
    "\n",
    "</div>"
   ]
  },
  {
   "cell_type": "code",
   "execution_count": 3,
   "id": "e3856ce6",
   "metadata": {},
   "outputs": [
    {
     "name": "stdout",
     "output_type": "stream",
     "text": [
      "Invalid number. Please enter a value between 0 and 20.\n"
     ]
    },
    {
     "data": {
      "text/plain": [
       "12"
      ]
     },
     "execution_count": 3,
     "metadata": {},
     "output_type": "execute_result"
    }
   ],
   "source": [
    "def in_score():\n",
    "    score = int(input(\"Enter the student's score: \"))\n",
    "    if score < 0 or score > 20:\n",
    "       print(\"Invalid number. Please enter a value between 0 and 20.\")\n",
    "       return in_score()\n",
    "    else:\n",
    "        return score\n",
    "    return in_score()\n",
    "in_score()"
   ]
  },
  {
   "cell_type": "markdown",
   "id": "e53e31ab",
   "metadata": {},
   "source": [
    "<div style=\"color: white;padding-top:18px;text-align:left;background-color:#940B92;border-radius:15px;border: 1px solid white;\"> \n",
    "    <h4>Question 02 (funcrion recursive)</h4>\n",
    "<p>\n",
    "Create a Python function to multiply all numbers between two user given integers, using recursion.\n",
    "</p>\n",
    "</div>"
   ]
  },
  {
   "cell_type": "code",
   "execution_count": 5,
   "id": "3898639a",
   "metadata": {},
   "outputs": [
    {
     "data": {
      "text/plain": [
       "120"
      ]
     },
     "execution_count": 5,
     "metadata": {},
     "output_type": "execute_result"
    }
   ],
   "source": [
    "def multiply(n1, n2):\n",
    "    if n1 > n2:\n",
    "        temp=n1\n",
    "        n1=n2\n",
    "        n2=temp\n",
    "    if n1 == n2:\n",
    "        return n1\n",
    "    else:\n",
    "        return n1 * multiply(n1 + 1, n2)\n",
    "multiply(2,5)"
   ]
  }
 ],
 "metadata": {
  "kernelspec": {
   "display_name": "Python 3 (ipykernel)",
   "language": "python",
   "name": "python3"
  },
  "language_info": {
   "codemirror_mode": {
    "name": "ipython",
    "version": 3
   },
   "file_extension": ".py",
   "mimetype": "text/x-python",
   "name": "python",
   "nbconvert_exporter": "python",
   "pygments_lexer": "ipython3",
   "version": "3.9.7"
  }
 },
 "nbformat": 4,
 "nbformat_minor": 5
}
